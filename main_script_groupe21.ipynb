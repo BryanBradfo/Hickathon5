{
 "cells": [
  {
   "cell_type": "markdown",
   "metadata": {},
   "source": [
    "# **Hi!ckathon #5: AI & Sustainability**"
   ]
  },
  {
   "cell_type": "markdown",
   "metadata": {},
   "source": [
    "## **Group 21: Aqua Smart Solution**\n",
    "\n",
    "The goal is to build an AI model that can predict the watertable/ground water levels of french piezometric stations, with a focus on the summer months. To build this model, you were given piezometric/watertable, weather, hydrology, water withdrawal and economic data. But beyond producing an AI model, the competition will ask you to realistically project your solution in a market / real-world context.\n",
    "\n",
    "The full dataset contains over 3 million rows with 136 columns. It was split into a train/test set.\n",
    "- Train set (`X_train_Hi5.csv`): The dataset has around 2 800 000 rows. It contains data between 2020 and 2023, excluding the summer months (june, july, august, september) of 2022 and 2023.\n",
    "- Test set (`X_test_Hi5.csv`): The contains has around 600 000 rows. It contains data for the 2022 and 2023 summer months (june, july, august, september).\n",
    "- Test submission example (`y_test_submission_example_Hi5.csv`): Please follow this example to submit results to the leaderboard. The \"row_index\" variable is a unique identifier of each row, to match the values\n",
    "\n",
    "The target variable to predict is `piezo_groundwater_level_category`."
   ]
  },
  {
   "cell_type": "markdown",
   "metadata": {},
   "source": [
    "----"
   ]
  },
  {
   "cell_type": "markdown",
   "metadata": {},
   "source": [
    "## **Import libraries**"
   ]
  },
  {
   "cell_type": "code",
   "execution_count": 1,
   "metadata": {
    "tags": []
   },
   "outputs": [],
   "source": [
    "from sklearn.compose import ColumnTransformer\n",
    "from sklearn.pipeline import Pipeline\n",
    "from sklearn.preprocessing import OrdinalEncoder, OneHotEncoder, StandardScaler, RobustScaler, LabelEncoder, FunctionTransformer\n",
    "from sklearn.model_selection import train_test_split\n",
    "from sklearn.metrics import f1_score\n",
    "from sklearn.ensemble import RandomForestClassifier, ExtraTreesClassifier\n",
    "import pandas as pd\n",
    "import numpy as np\n",
    "pd.set_option('display.max_columns', 280)"
   ]
  },
  {
   "cell_type": "markdown",
   "metadata": {},
   "source": [
    "----"
   ]
  },
  {
   "cell_type": "markdown",
   "metadata": {},
   "source": [
    "## **Load the datasets**"
   ]
  },
  {
   "cell_type": "code",
   "execution_count": 2,
   "metadata": {
    "tags": []
   },
   "outputs": [],
   "source": [
    "train = pd.read_csv('data_processed_clipped_asymetry_symetry_upload2.csv')\n",
    "test = pd.read_csv('test_preprocessed_clipped_asymetry_symetry.csv')"
   ]
  },
  {
   "cell_type": "code",
   "execution_count": 3,
   "metadata": {
    "tags": []
   },
   "outputs": [],
   "source": [
    "train['piezo_measurement_date'] = pd.to_datetime(train['piezo_measurement_date'])\n",
    "test['piezo_measurement_date'] = pd.to_datetime(test['piezo_measurement_date'])"
   ]
  },
  {
   "cell_type": "markdown",
   "metadata": {},
   "source": [
    "----"
   ]
  },
  {
   "cell_type": "markdown",
   "metadata": {},
   "source": [
    "## **Feature Engineering**"
   ]
  },
  {
   "cell_type": "code",
   "execution_count": 4,
   "metadata": {
    "tags": []
   },
   "outputs": [],
   "source": [
    "to_passthrough = [] "
   ]
  },
  {
   "cell_type": "code",
   "execution_count": 5,
   "metadata": {
    "tags": []
   },
   "outputs": [],
   "source": [
    "def sin_transformer(period):\n",
    "    return FunctionTransformer(lambda x: np.sin(x / period * 2 * np.pi))\n",
    "\n",
    "def cos_transformer(period):\n",
    "    return FunctionTransformer(lambda x: np.cos(x / period * 2 * np.pi))\n"
   ]
  },
  {
   "cell_type": "code",
   "execution_count": null,
   "metadata": {
    "tags": []
   },
   "outputs": [],
   "source": [
    "train['day_cos'] = train['piezo_measurement_date'].dt.day.astype(float)\n",
    "train['day_sin'] = train['piezo_measurement_date'].dt.day.astype(float)\n",
    "train['month_cos'] = train['piezo_measurement_date'].dt.month.astype(float)\n",
    "train['month_sin'] = train['piezo_measurement_date'].dt.month.astype(float)\n",
    "train['month'] = train['piezo_measurement_date'].dt.month.astype(int)\n",
    "train['year'] = train['piezo_measurement_date'].dt.year.astype(int)\n",
    "\n",
    "train[\"day_sin\"] = sin_transformer(365).fit_transform(train[\"day_sin\"])\n",
    "train[\"day_cos\"] = cos_transformer(365).fit_transform(train[\"day_cos\"])\n",
    "train[\"month_sin\"] = sin_transformer(12).fit_transform(train[\"month_sin\"])\n",
    "train[\"month_cos\"] = cos_transformer(12).fit_transform(train[\"month_cos\"])\n",
    "train['quarter_sin'] = sin_transformer(4).fit_transform(train[\"quarter\"])\n",
    "train['quarter_cos'] = sin_transformer(4).fit_transform(train['quarter'])\n",
    "\n",
    "test['day_cos'] = test['piezo_measurement_date'].dt.day.astype(float)\n",
    "test['day_sin'] = test['piezo_measurement_date'].dt.day.astype(float)\n",
    "test['month_cos'] = test['piezo_measurement_date'].dt.month.astype(float)\n",
    "test['month_sin'] = test['piezo_measurement_date'].dt.month.astype(float)\n",
    "test['month'] = test['piezo_measurement_date'].dt.month.astype(int)\n",
    "test['year'] = test['piezo_measurement_date'].dt.year.astype(int)\n",
    "\n",
    "test[\"day_sin\"] = sin_transformer(365).fit_transform(test[\"day_sin\"])\n",
    "test[\"day_cos\"] = cos_transformer(365).fit_transform(test[\"day_cos\"])\n",
    "test[\"month_sin\"] = sin_transformer(12).fit_transform(test[\"month_sin\"])\n",
    "test[\"month_cos\"] = cos_transformer(12).fit_transform(test[\"month_cos\"])\n",
    "test['quarter_sin'] = sin_transformer(4).fit_transform(test[\"quarter\"])\n",
    "test['quarter_cos'] = sin_transformer(4).fit_transform(test['quarter'])\n",
    "\n",
    "to_passthrough.extend(['day_cos', 'day_sin', 'month_cos', 'month_sin', 'quarter_sin', 'quarter_cos', 'quarter', 'month', \"year\"])"
   ]
  },
  {
   "cell_type": "code",
   "execution_count": 7,
   "metadata": {
    "tags": []
   },
   "outputs": [],
   "source": [
    "train = train.drop(columns=['piezo_measurement_date'])"
   ]
  },
  {
   "cell_type": "code",
   "execution_count": null,
   "metadata": {
    "tags": []
   },
   "outputs": [],
   "source": [
    "train_categorical = train.select_dtypes(include=['object', 'category'])\n",
    "test_categorical = test.select_dtypes(include=['object', 'category'])\n",
    "\n",
    "\n",
    "train_numerical = train.select_dtypes(include=['int', 'float', 'number'])\n",
    "test_numerical = test.select_dtypes(include=['int', 'float', 'number'])"
   ]
  },
  {
   "cell_type": "markdown",
   "metadata": {},
   "source": [
    "----"
   ]
  },
  {
   "cell_type": "markdown",
   "metadata": {},
   "source": [
    "## **Pipeline of the feature engineering process**"
   ]
  },
  {
   "cell_type": "code",
   "execution_count": null,
   "metadata": {
    "tags": []
   },
   "outputs": [],
   "source": [
    "ordinal_order = {\n",
    "    \"hydro_qualification_label\": ['Douteuse', 'Non qualifiée', 'Bonne'],\n",
    "    \"hydro_status_label\": [\"Donnée brute\", 'Donnée corrigée', 'Donnée pré-validée', 'Donnée validée'],\n",
    "    \"piezo_measure_nature_code\": ['N', '0', 'I', 'D', 'S'],\n",
    "    \"piezo_qualification\": ['Incorrecte', 'Non qualifié', 'Incertaine', 'Correcte'],\n",
    "    \"piezo_status\": ['Donnée brute', 'Donnée contrôlée niveau 1', 'Donnée contrôlée niveau 2', 'Donnée interprétée'],\n",
    "    \"piezo_obtention_mode\": [\"Mode d'obtention inconnu\", 'Valeur mesurée', 'Valeur reconstituée'],\n",
    "}\n",
    "\n",
    "to_ordinal = list(ordinal_order.keys())\n",
    "# to_one_hot = ['hydro_hydro_quantity_elab', 'piezo_station_commune_code_insee']\n",
    "to_one_hot = ['hydro_hydro_quantity_elab']\n",
    "# to_label_encode = ['piezo_station_commune_code_insee']\n",
    "\n",
    "numerical_to_drop = [\n",
    "    'hydro_method_label', 'hydro_observation_date_elab', 'piezo_station_department_code',\n",
    "    'piezo_station_bss_code', 'piezo_station_commune_name', 'piezo_station_bss_id',\n",
    "    'hydro_longitude', 'hydro_latitude', 'distance_piezo_meteo', 'distance_piezo_hydro',\n",
    "    'piezo_bss_code', 'piezo_obtention_mode', 'piezo_qualification', 'piezo_continuity_name', \n",
    "    'piezo_producer_code', 'piezo_measure_nature_name', 'meteo_wind_direction_max_inst_2m', \n",
    "    'meteo_wind_speed_avg_2m', 'meteo_time_wind_max_2m', 'meteo_id', 'meteo_name', \n",
    "    'meteo_temperature_avg_threshold', 'meteo_temperature_min_50cm', \n",
    "    'prelev_structure_code_2', 'prelev_structure_code_1', 'prelev_structure_code_0', \n",
    "    'prelev_volume_obtention_mode_label_2', 'prelev_volume_obtention_mode_label_1', \n",
    "    'prelev_volume_obtention_mode_label_0', 'prelev_usage_label_2', \n",
    "    'prelev_usage_label_1', 'prelev_usage_label_0'\n",
    "]\n",
    "\n",
    "numerical_to_drop.extend(to_passthrough)\n",
    "\n",
    "to_scale = [col for col in train_numerical.columns if col not in numerical_to_drop]\n",
    "\n",
    "ordinal_pipeline = Pipeline(steps=[\n",
    "    ('ordinal', OrdinalEncoder(categories=[ordinal_order[col] for col in to_ordinal]))\n",
    "])\n",
    "\n",
    "one_hot_pipeline = Pipeline(steps=[\n",
    "    ('onehot', OneHotEncoder(handle_unknown='ignore'))\n",
    "])\n",
    "\n",
    "label_encode_pipeline = Pipeline(steps=[\n",
    "    ('label_encode', LabelEncoder())\n",
    "])\n",
    "\n",
    "robust_scaling_pipeline = Pipeline(steps=[\n",
    "    ('scaler', RobustScaler())\n",
    "])\n",
    "\n",
    "preprocessor = ColumnTransformer(transformers=[\n",
    "    ('ordinal', ordinal_pipeline, to_ordinal),\n",
    "    ('onehot', one_hot_pipeline, to_one_hot),\n",
    "    ('robust_scale', robust_scaling_pipeline, to_scale),\n",
    "    ('passthrough', 'passthrough', to_passthrough) \n",
    "], remainder='drop')\n"
   ]
  },
  {
   "cell_type": "code",
   "execution_count": null,
   "metadata": {
    "tags": []
   },
   "outputs": [],
   "source": [
    "summer_months = [6, 7, 8, 9]\n",
    "\n",
    "summer_2021 = train[(train['year'] == 2021) & (train['month'].isin(summer_months))]\n",
    "summer_2020 = train[(train['year'] == 2020) & (train['month'].isin(summer_months))]\n",
    "summers = train[((train['year'] == 2020) | (train['year'] == 2021)) & (train['month'].isin(summer_months))]\n",
    "\n",
    "train_data = train[~((train['year'] == 2021) & (train['month'].isin(summer_months)))]\n",
    "\n",
    "train_final = summers.reset_index(drop=True)\n",
    "validation_final = summer_2021.reset_index(drop=True)\n",
    "\n",
    "X_train = train_final.drop('piezo_groundwater_level_category', axis=1)\n",
    "y_train = train_final['piezo_groundwater_level_category']\n",
    "X_val = validation_final.drop('piezo_groundwater_level_category', axis=1)\n",
    "y_val = validation_final['piezo_groundwater_level_category']"
   ]
  },
  {
   "cell_type": "code",
   "execution_count": null,
   "metadata": {
    "tags": []
   },
   "outputs": [],
   "source": [
    "X_train = X_train.drop(columns=['piezo_station_commune_code_insee'])\n",
    "X_val = X_val.drop(columns=['piezo_station_commune_code_insee'])\n",
    "test = test.drop(columns=['piezo_station_commune_code_insee'])"
   ]
  },
  {
   "cell_type": "code",
   "execution_count": 12,
   "metadata": {
    "tags": []
   },
   "outputs": [
    {
     "data": {
      "text/html": [
       "<style>#sk-container-id-1 {color: black;background-color: white;}#sk-container-id-1 pre{padding: 0;}#sk-container-id-1 div.sk-toggleable {background-color: white;}#sk-container-id-1 label.sk-toggleable__label {cursor: pointer;display: block;width: 100%;margin-bottom: 0;padding: 0.3em;box-sizing: border-box;text-align: center;}#sk-container-id-1 label.sk-toggleable__label-arrow:before {content: \"▸\";float: left;margin-right: 0.25em;color: #696969;}#sk-container-id-1 label.sk-toggleable__label-arrow:hover:before {color: black;}#sk-container-id-1 div.sk-estimator:hover label.sk-toggleable__label-arrow:before {color: black;}#sk-container-id-1 div.sk-toggleable__content {max-height: 0;max-width: 0;overflow: hidden;text-align: left;background-color: #f0f8ff;}#sk-container-id-1 div.sk-toggleable__content pre {margin: 0.2em;color: black;border-radius: 0.25em;background-color: #f0f8ff;}#sk-container-id-1 input.sk-toggleable__control:checked~div.sk-toggleable__content {max-height: 200px;max-width: 100%;overflow: auto;}#sk-container-id-1 input.sk-toggleable__control:checked~label.sk-toggleable__label-arrow:before {content: \"▾\";}#sk-container-id-1 div.sk-estimator input.sk-toggleable__control:checked~label.sk-toggleable__label {background-color: #d4ebff;}#sk-container-id-1 div.sk-label input.sk-toggleable__control:checked~label.sk-toggleable__label {background-color: #d4ebff;}#sk-container-id-1 input.sk-hidden--visually {border: 0;clip: rect(1px 1px 1px 1px);clip: rect(1px, 1px, 1px, 1px);height: 1px;margin: -1px;overflow: hidden;padding: 0;position: absolute;width: 1px;}#sk-container-id-1 div.sk-estimator {font-family: monospace;background-color: #f0f8ff;border: 1px dotted black;border-radius: 0.25em;box-sizing: border-box;margin-bottom: 0.5em;}#sk-container-id-1 div.sk-estimator:hover {background-color: #d4ebff;}#sk-container-id-1 div.sk-parallel-item::after {content: \"\";width: 100%;border-bottom: 1px solid gray;flex-grow: 1;}#sk-container-id-1 div.sk-label:hover label.sk-toggleable__label {background-color: #d4ebff;}#sk-container-id-1 div.sk-serial::before {content: \"\";position: absolute;border-left: 1px solid gray;box-sizing: border-box;top: 0;bottom: 0;left: 50%;z-index: 0;}#sk-container-id-1 div.sk-serial {display: flex;flex-direction: column;align-items: center;background-color: white;padding-right: 0.2em;padding-left: 0.2em;position: relative;}#sk-container-id-1 div.sk-item {position: relative;z-index: 1;}#sk-container-id-1 div.sk-parallel {display: flex;align-items: stretch;justify-content: center;background-color: white;position: relative;}#sk-container-id-1 div.sk-item::before, #sk-container-id-1 div.sk-parallel-item::before {content: \"\";position: absolute;border-left: 1px solid gray;box-sizing: border-box;top: 0;bottom: 0;left: 50%;z-index: -1;}#sk-container-id-1 div.sk-parallel-item {display: flex;flex-direction: column;z-index: 1;position: relative;background-color: white;}#sk-container-id-1 div.sk-parallel-item:first-child::after {align-self: flex-end;width: 50%;}#sk-container-id-1 div.sk-parallel-item:last-child::after {align-self: flex-start;width: 50%;}#sk-container-id-1 div.sk-parallel-item:only-child::after {width: 0;}#sk-container-id-1 div.sk-dashed-wrapped {border: 1px dashed gray;margin: 0 0.4em 0.5em 0.4em;box-sizing: border-box;padding-bottom: 0.4em;background-color: white;}#sk-container-id-1 div.sk-label label {font-family: monospace;font-weight: bold;display: inline-block;line-height: 1.2em;}#sk-container-id-1 div.sk-label-container {text-align: center;}#sk-container-id-1 div.sk-container {/* jupyter's `normalize.less` sets `[hidden] { display: none; }` but bootstrap.min.css set `[hidden] { display: none !important; }` so we also need the `!important` here to be able to override the default hidden behavior on the sphinx rendered scikit-learn.org. See: https://github.com/scikit-learn/scikit-learn/issues/21755 */display: inline-block !important;position: relative;}#sk-container-id-1 div.sk-text-repr-fallback {display: none;}</style><div id=\"sk-container-id-1\" class=\"sk-top-container\"><div class=\"sk-text-repr-fallback\"><pre>ColumnTransformer(transformers=[(&#x27;ordinal&#x27;,\n",
       "                                 Pipeline(steps=[(&#x27;ordinal&#x27;,\n",
       "                                                  OrdinalEncoder(categories=[[&#x27;Douteuse&#x27;,\n",
       "                                                                              &#x27;Non &#x27;\n",
       "                                                                              &#x27;qualifiée&#x27;,\n",
       "                                                                              &#x27;Bonne&#x27;],\n",
       "                                                                             [&#x27;Donnée &#x27;\n",
       "                                                                              &#x27;brute&#x27;,\n",
       "                                                                              &#x27;Donnée &#x27;\n",
       "                                                                              &#x27;corrigée&#x27;,\n",
       "                                                                              &#x27;Donnée &#x27;\n",
       "                                                                              &#x27;pré-validée&#x27;,\n",
       "                                                                              &#x27;Donnée &#x27;\n",
       "                                                                              &#x27;validée&#x27;],\n",
       "                                                                             [&#x27;N&#x27;,\n",
       "                                                                              &#x27;0&#x27;,\n",
       "                                                                              &#x27;I&#x27;,\n",
       "                                                                              &#x27;D&#x27;,\n",
       "                                                                              &#x27;S&#x27;],\n",
       "                                                                             [&#x27;Incorrecte&#x27;,\n",
       "                                                                              &#x27;Non &#x27;\n",
       "                                                                              &#x27;qualifié&#x27;,\n",
       "                                                                              &#x27;Incertaine&#x27;,\n",
       "                                                                              &#x27;Correcte&#x27;],\n",
       "                                                                             [&#x27;Donnée &#x27;\n",
       "                                                                              &#x27;brute&#x27;,\n",
       "                                                                              &#x27;Donnée &#x27;\n",
       "                                                                              &#x27;contrôlée &#x27;\n",
       "                                                                              &#x27;niveau &#x27;\n",
       "                                                                              &#x27;1&#x27;,\n",
       "                                                                              &#x27;Donnée &#x27;\n",
       "                                                                              &#x27;cont...\n",
       "                                  &#x27;meteo_wind_speed_avg_10m&#x27;, &#x27;meteo_if_smoke&#x27;,\n",
       "                                  &#x27;meteo_wind_avg&#x27;, &#x27;meteo_if_frost&#x27;,\n",
       "                                  &#x27;meteo_radiation&#x27;, &#x27;meteo_if_hail&#x27;,\n",
       "                                  &#x27;meteo_if_sleet&#x27;, &#x27;meteo_snow_height&#x27;,\n",
       "                                  &#x27;meteo_time_tn&#x27;, &#x27;meteo_time_tx&#x27;,\n",
       "                                  &#x27;meteo_time_humidity_min&#x27;,\n",
       "                                  &#x27;meteo_time_humidity_max&#x27;,\n",
       "                                  &#x27;meteo_time_wind_max&#x27;, ...]),\n",
       "                                (&#x27;passthrough&#x27;, &#x27;passthrough&#x27;,\n",
       "                                 [&#x27;day_cos&#x27;, &#x27;day_sin&#x27;, &#x27;month_cos&#x27;,\n",
       "                                  &#x27;month_sin&#x27;, &#x27;quarter_sin&#x27;, &#x27;quarter_cos&#x27;,\n",
       "                                  &#x27;quarter&#x27;, &#x27;month&#x27;, &#x27;year&#x27;])])</pre><b>In a Jupyter environment, please rerun this cell to show the HTML representation or trust the notebook. <br />On GitHub, the HTML representation is unable to render, please try loading this page with nbviewer.org.</b></div><div class=\"sk-container\" hidden><div class=\"sk-item sk-dashed-wrapped\"><div class=\"sk-label-container\"><div class=\"sk-label sk-toggleable\"><input class=\"sk-toggleable__control sk-hidden--visually\" id=\"sk-estimator-id-1\" type=\"checkbox\" ><label for=\"sk-estimator-id-1\" class=\"sk-toggleable__label sk-toggleable__label-arrow\">ColumnTransformer</label><div class=\"sk-toggleable__content\"><pre>ColumnTransformer(transformers=[(&#x27;ordinal&#x27;,\n",
       "                                 Pipeline(steps=[(&#x27;ordinal&#x27;,\n",
       "                                                  OrdinalEncoder(categories=[[&#x27;Douteuse&#x27;,\n",
       "                                                                              &#x27;Non &#x27;\n",
       "                                                                              &#x27;qualifiée&#x27;,\n",
       "                                                                              &#x27;Bonne&#x27;],\n",
       "                                                                             [&#x27;Donnée &#x27;\n",
       "                                                                              &#x27;brute&#x27;,\n",
       "                                                                              &#x27;Donnée &#x27;\n",
       "                                                                              &#x27;corrigée&#x27;,\n",
       "                                                                              &#x27;Donnée &#x27;\n",
       "                                                                              &#x27;pré-validée&#x27;,\n",
       "                                                                              &#x27;Donnée &#x27;\n",
       "                                                                              &#x27;validée&#x27;],\n",
       "                                                                             [&#x27;N&#x27;,\n",
       "                                                                              &#x27;0&#x27;,\n",
       "                                                                              &#x27;I&#x27;,\n",
       "                                                                              &#x27;D&#x27;,\n",
       "                                                                              &#x27;S&#x27;],\n",
       "                                                                             [&#x27;Incorrecte&#x27;,\n",
       "                                                                              &#x27;Non &#x27;\n",
       "                                                                              &#x27;qualifié&#x27;,\n",
       "                                                                              &#x27;Incertaine&#x27;,\n",
       "                                                                              &#x27;Correcte&#x27;],\n",
       "                                                                             [&#x27;Donnée &#x27;\n",
       "                                                                              &#x27;brute&#x27;,\n",
       "                                                                              &#x27;Donnée &#x27;\n",
       "                                                                              &#x27;contrôlée &#x27;\n",
       "                                                                              &#x27;niveau &#x27;\n",
       "                                                                              &#x27;1&#x27;,\n",
       "                                                                              &#x27;Donnée &#x27;\n",
       "                                                                              &#x27;cont...\n",
       "                                  &#x27;meteo_wind_speed_avg_10m&#x27;, &#x27;meteo_if_smoke&#x27;,\n",
       "                                  &#x27;meteo_wind_avg&#x27;, &#x27;meteo_if_frost&#x27;,\n",
       "                                  &#x27;meteo_radiation&#x27;, &#x27;meteo_if_hail&#x27;,\n",
       "                                  &#x27;meteo_if_sleet&#x27;, &#x27;meteo_snow_height&#x27;,\n",
       "                                  &#x27;meteo_time_tn&#x27;, &#x27;meteo_time_tx&#x27;,\n",
       "                                  &#x27;meteo_time_humidity_min&#x27;,\n",
       "                                  &#x27;meteo_time_humidity_max&#x27;,\n",
       "                                  &#x27;meteo_time_wind_max&#x27;, ...]),\n",
       "                                (&#x27;passthrough&#x27;, &#x27;passthrough&#x27;,\n",
       "                                 [&#x27;day_cos&#x27;, &#x27;day_sin&#x27;, &#x27;month_cos&#x27;,\n",
       "                                  &#x27;month_sin&#x27;, &#x27;quarter_sin&#x27;, &#x27;quarter_cos&#x27;,\n",
       "                                  &#x27;quarter&#x27;, &#x27;month&#x27;, &#x27;year&#x27;])])</pre></div></div></div><div class=\"sk-parallel\"><div class=\"sk-parallel-item\"><div class=\"sk-item\"><div class=\"sk-label-container\"><div class=\"sk-label sk-toggleable\"><input class=\"sk-toggleable__control sk-hidden--visually\" id=\"sk-estimator-id-2\" type=\"checkbox\" ><label for=\"sk-estimator-id-2\" class=\"sk-toggleable__label sk-toggleable__label-arrow\">ordinal</label><div class=\"sk-toggleable__content\"><pre>[&#x27;hydro_qualification_label&#x27;, &#x27;hydro_status_label&#x27;, &#x27;piezo_measure_nature_code&#x27;, &#x27;piezo_qualification&#x27;, &#x27;piezo_status&#x27;, &#x27;piezo_obtention_mode&#x27;]</pre></div></div></div><div class=\"sk-serial\"><div class=\"sk-item\"><div class=\"sk-serial\"><div class=\"sk-item\"><div class=\"sk-estimator sk-toggleable\"><input class=\"sk-toggleable__control sk-hidden--visually\" id=\"sk-estimator-id-3\" type=\"checkbox\" ><label for=\"sk-estimator-id-3\" class=\"sk-toggleable__label sk-toggleable__label-arrow\">OrdinalEncoder</label><div class=\"sk-toggleable__content\"><pre>OrdinalEncoder(categories=[[&#x27;Douteuse&#x27;, &#x27;Non qualifiée&#x27;, &#x27;Bonne&#x27;],\n",
       "                           [&#x27;Donnée brute&#x27;, &#x27;Donnée corrigée&#x27;,\n",
       "                            &#x27;Donnée pré-validée&#x27;, &#x27;Donnée validée&#x27;],\n",
       "                           [&#x27;N&#x27;, &#x27;0&#x27;, &#x27;I&#x27;, &#x27;D&#x27;, &#x27;S&#x27;],\n",
       "                           [&#x27;Incorrecte&#x27;, &#x27;Non qualifié&#x27;, &#x27;Incertaine&#x27;,\n",
       "                            &#x27;Correcte&#x27;],\n",
       "                           [&#x27;Donnée brute&#x27;, &#x27;Donnée contrôlée niveau 1&#x27;,\n",
       "                            &#x27;Donnée contrôlée niveau 2&#x27;, &#x27;Donnée interprétée&#x27;],\n",
       "                           [&quot;Mode d&#x27;obtention inconnu&quot;, &#x27;Valeur mesurée&#x27;,\n",
       "                            &#x27;Valeur reconstituée&#x27;]])</pre></div></div></div></div></div></div></div></div><div class=\"sk-parallel-item\"><div class=\"sk-item\"><div class=\"sk-label-container\"><div class=\"sk-label sk-toggleable\"><input class=\"sk-toggleable__control sk-hidden--visually\" id=\"sk-estimator-id-4\" type=\"checkbox\" ><label for=\"sk-estimator-id-4\" class=\"sk-toggleable__label sk-toggleable__label-arrow\">onehot</label><div class=\"sk-toggleable__content\"><pre>[&#x27;hydro_hydro_quantity_elab&#x27;]</pre></div></div></div><div class=\"sk-serial\"><div class=\"sk-item\"><div class=\"sk-serial\"><div class=\"sk-item\"><div class=\"sk-estimator sk-toggleable\"><input class=\"sk-toggleable__control sk-hidden--visually\" id=\"sk-estimator-id-5\" type=\"checkbox\" ><label for=\"sk-estimator-id-5\" class=\"sk-toggleable__label sk-toggleable__label-arrow\">OneHotEncoder</label><div class=\"sk-toggleable__content\"><pre>OneHotEncoder(handle_unknown=&#x27;ignore&#x27;)</pre></div></div></div></div></div></div></div></div><div class=\"sk-parallel-item\"><div class=\"sk-item\"><div class=\"sk-label-container\"><div class=\"sk-label sk-toggleable\"><input class=\"sk-toggleable__control sk-hidden--visually\" id=\"sk-estimator-id-6\" type=\"checkbox\" ><label for=\"sk-estimator-id-6\" class=\"sk-toggleable__label sk-toggleable__label-arrow\">robust_scale</label><div class=\"sk-toggleable__content\"><pre>[&#x27;piezo_station_investigation_depth&#x27;, &#x27;piezo_station_altitude&#x27;, &#x27;piezo_station_longitude&#x27;, &#x27;piezo_station_latitude&#x27;, &#x27;piezo_continuity_code&#x27;, &#x27;meteo_cloudiness_height&#x27;, &#x27;meteo_if_fog&#x27;, &#x27;meteo_if_mist&#x27;, &#x27;meteo_frost_duration&#x27;, &#x27;meteo_wetting_duration&#x27;, &#x27;meteo_humidity_duration_below_40%&#x27;, &#x27;meteo_humidity_duration_above_80%&#x27;, &#x27;meteo_radiation_direct&#x27;, &#x27;meteo_wind_direction_max_avg&#x27;, &#x27;meteo_if_lightning&#x27;, &#x27;meteo_evapotranspiration_grid&#x27;, &#x27;meteo_evapotranspiration_Monteith&#x27;, &#x27;meteo_wind_speed_avg_10m&#x27;, &#x27;meteo_if_smoke&#x27;, &#x27;meteo_wind_avg&#x27;, &#x27;meteo_if_frost&#x27;, &#x27;meteo_radiation&#x27;, &#x27;meteo_if_hail&#x27;, &#x27;meteo_if_sleet&#x27;, &#x27;meteo_snow_height&#x27;, &#x27;meteo_time_tn&#x27;, &#x27;meteo_time_tx&#x27;, &#x27;meteo_time_humidity_min&#x27;, &#x27;meteo_time_humidity_max&#x27;, &#x27;meteo_time_wind_max&#x27;, &#x27;meteo_time_wind_max_3s&#x27;, &#x27;meteo_time_wind_avg&#x27;, &#x27;meteo_radiation_IR&#x27;, &#x27;meteo_sunshine_duration&#x27;, &#x27;meteo_longitude&#x27;, &#x27;meteo_latitude&#x27;, &#x27;meteo_cloudiness&#x27;, &#x27;meteo_if_snow&#x27;, &#x27;meteo_snow_thickness_6h&#x27;, &#x27;meteo_snow_thickness_max&#x27;, &#x27;meteo_if_thunderstorm&#x27;, &#x27;meteo_pressure_avg&#x27;, &#x27;meteo_pression_maxi&#x27;, &#x27;meteo_if_dew&#x27;, &#x27;meteo_rain_height&#x27;, &#x27;meteo_sunshine_%&#x27;, &#x27;meteo_if_snow_ground&#x27;, &#x27;meteo_amplitude_tn_tx&#x27;, &#x27;meteo_temperature_avg&#x27;, &#x27;meteo_temperature_min&#x27;, &#x27;meteo_temperature_min_ground&#x27;, &#x27;meteo_temperature_avg_tntm&#x27;, &#x27;meteo__pressure_saturation_avg&#x27;, &#x27;meteo_temperature_max&#x27;, &#x27;meteo_humidity_avg&#x27;, &#x27;meteo_humidity_min&#x27;, &#x27;meteo_radiation_UV&#x27;, &#x27;meteo_radiation_UV_max&#x27;, &#x27;meteo_humidity_max&#x27;, &#x27;meteo_if_black_ice&#x27;, &#x27;prelev_volume_0&#x27;, &#x27;prelev_longitude_0&#x27;, &#x27;prelev_latitude_0&#x27;, &#x27;prelev_commune_code_insee_0&#x27;, &#x27;prelev_volume_1&#x27;, &#x27;prelev_longitude_1&#x27;, &#x27;prelev_latitude_1&#x27;, &#x27;prelev_commune_code_insee_1&#x27;, &#x27;prelev_volume_2&#x27;, &#x27;prelev_longitude_2&#x27;, &#x27;prelev_latitude_2&#x27;, &#x27;prelev_commune_code_insee_2&#x27;, &#x27;prelev_other_volume_sum&#x27;, &#x27;hydro_observation_result_elab&#x27;, &#x27;hydro_status_code&#x27;, &#x27;hydro_method_code&#x27;, &#x27;hydro_qualification_code&#x27;, &#x27;insee_%_agri&#x27;, &#x27;insee_pop_commune&#x27;, &#x27;insee_med_living_level&#x27;, &#x27;insee_%_const&#x27;, &#x27;insee_%_ind&#x27;]</pre></div></div></div><div class=\"sk-serial\"><div class=\"sk-item\"><div class=\"sk-serial\"><div class=\"sk-item\"><div class=\"sk-estimator sk-toggleable\"><input class=\"sk-toggleable__control sk-hidden--visually\" id=\"sk-estimator-id-7\" type=\"checkbox\" ><label for=\"sk-estimator-id-7\" class=\"sk-toggleable__label sk-toggleable__label-arrow\">RobustScaler</label><div class=\"sk-toggleable__content\"><pre>RobustScaler()</pre></div></div></div></div></div></div></div></div><div class=\"sk-parallel-item\"><div class=\"sk-item\"><div class=\"sk-label-container\"><div class=\"sk-label sk-toggleable\"><input class=\"sk-toggleable__control sk-hidden--visually\" id=\"sk-estimator-id-8\" type=\"checkbox\" ><label for=\"sk-estimator-id-8\" class=\"sk-toggleable__label sk-toggleable__label-arrow\">passthrough</label><div class=\"sk-toggleable__content\"><pre>[&#x27;day_cos&#x27;, &#x27;day_sin&#x27;, &#x27;month_cos&#x27;, &#x27;month_sin&#x27;, &#x27;quarter_sin&#x27;, &#x27;quarter_cos&#x27;, &#x27;quarter&#x27;, &#x27;month&#x27;, &#x27;year&#x27;]</pre></div></div></div><div class=\"sk-serial\"><div class=\"sk-item\"><div class=\"sk-estimator sk-toggleable\"><input class=\"sk-toggleable__control sk-hidden--visually\" id=\"sk-estimator-id-9\" type=\"checkbox\" ><label for=\"sk-estimator-id-9\" class=\"sk-toggleable__label sk-toggleable__label-arrow\">passthrough</label><div class=\"sk-toggleable__content\"><pre>passthrough</pre></div></div></div></div></div></div></div></div></div></div>"
      ],
      "text/plain": [
       "ColumnTransformer(transformers=[('ordinal',\n",
       "                                 Pipeline(steps=[('ordinal',\n",
       "                                                  OrdinalEncoder(categories=[['Douteuse',\n",
       "                                                                              'Non '\n",
       "                                                                              'qualifiée',\n",
       "                                                                              'Bonne'],\n",
       "                                                                             ['Donnée '\n",
       "                                                                              'brute',\n",
       "                                                                              'Donnée '\n",
       "                                                                              'corrigée',\n",
       "                                                                              'Donnée '\n",
       "                                                                              'pré-validée',\n",
       "                                                                              'Donnée '\n",
       "                                                                              'validée'],\n",
       "                                                                             ['N',\n",
       "                                                                              '0',\n",
       "                                                                              'I',\n",
       "                                                                              'D',\n",
       "                                                                              'S'],\n",
       "                                                                             ['Incorrecte',\n",
       "                                                                              'Non '\n",
       "                                                                              'qualifié',\n",
       "                                                                              'Incertaine',\n",
       "                                                                              'Correcte'],\n",
       "                                                                             ['Donnée '\n",
       "                                                                              'brute',\n",
       "                                                                              'Donnée '\n",
       "                                                                              'contrôlée '\n",
       "                                                                              'niveau '\n",
       "                                                                              '1',\n",
       "                                                                              'Donnée '\n",
       "                                                                              'cont...\n",
       "                                  'meteo_wind_speed_avg_10m', 'meteo_if_smoke',\n",
       "                                  'meteo_wind_avg', 'meteo_if_frost',\n",
       "                                  'meteo_radiation', 'meteo_if_hail',\n",
       "                                  'meteo_if_sleet', 'meteo_snow_height',\n",
       "                                  'meteo_time_tn', 'meteo_time_tx',\n",
       "                                  'meteo_time_humidity_min',\n",
       "                                  'meteo_time_humidity_max',\n",
       "                                  'meteo_time_wind_max', ...]),\n",
       "                                ('passthrough', 'passthrough',\n",
       "                                 ['day_cos', 'day_sin', 'month_cos',\n",
       "                                  'month_sin', 'quarter_sin', 'quarter_cos',\n",
       "                                  'quarter', 'month', 'year'])])"
      ]
     },
     "execution_count": 12,
     "metadata": {},
     "output_type": "execute_result"
    }
   ],
   "source": [
    "preprocessor.fit(X_train)"
   ]
  },
  {
   "cell_type": "code",
   "execution_count": null,
   "metadata": {
    "tags": []
   },
   "outputs": [],
   "source": [
    "X_train_processed = preprocessor.transform(X_train)\n",
    "X_val_processed = preprocessor.transform(X_val)"
   ]
  },
  {
   "cell_type": "code",
   "execution_count": 14,
   "metadata": {
    "tags": []
   },
   "outputs": [
    {
     "name": "stdout",
     "output_type": "stream",
     "text": [
      "(614663, 99)\n",
      "(309088, 99)\n"
     ]
    }
   ],
   "source": [
    "print(X_train_processed.shape)\n",
    "print(X_val_processed.shape)"
   ]
  },
  {
   "cell_type": "code",
   "execution_count": null,
   "metadata": {
    "tags": []
   },
   "outputs": [],
   "source": [
    "categories = ['Very Low', 'Low', 'Average', 'High', 'Very High']\n",
    "\n",
    "encoder = OrdinalEncoder(categories=[categories]) \n",
    "\n",
    "y_train_encoded = encoder.fit_transform(y_train.values.reshape(-1, 1))\n",
    "y_val_encoded = encoder.transform(y_val.values.reshape(-1, 1))"
   ]
  },
  {
   "cell_type": "markdown",
   "metadata": {},
   "source": [
    "---"
   ]
  },
  {
   "cell_type": "markdown",
   "metadata": {},
   "source": [
    "## **Model Training & Validation**"
   ]
  },
  {
   "cell_type": "code",
   "execution_count": null,
   "metadata": {
    "tags": []
   },
   "outputs": [],
   "source": [
    "clf = RandomForestClassifier(\n",
    "    n_estimators=1,  \n",
    "    max_depth=None,    \n",
    "    random_state=42,   \n",
    "    n_jobs=-1          \n",
    ")"
   ]
  },
  {
   "cell_type": "code",
   "execution_count": 18,
   "metadata": {
    "tags": []
   },
   "outputs": [
    {
     "data": {
      "text/html": [
       "<style>#sk-container-id-2 {color: black;background-color: white;}#sk-container-id-2 pre{padding: 0;}#sk-container-id-2 div.sk-toggleable {background-color: white;}#sk-container-id-2 label.sk-toggleable__label {cursor: pointer;display: block;width: 100%;margin-bottom: 0;padding: 0.3em;box-sizing: border-box;text-align: center;}#sk-container-id-2 label.sk-toggleable__label-arrow:before {content: \"▸\";float: left;margin-right: 0.25em;color: #696969;}#sk-container-id-2 label.sk-toggleable__label-arrow:hover:before {color: black;}#sk-container-id-2 div.sk-estimator:hover label.sk-toggleable__label-arrow:before {color: black;}#sk-container-id-2 div.sk-toggleable__content {max-height: 0;max-width: 0;overflow: hidden;text-align: left;background-color: #f0f8ff;}#sk-container-id-2 div.sk-toggleable__content pre {margin: 0.2em;color: black;border-radius: 0.25em;background-color: #f0f8ff;}#sk-container-id-2 input.sk-toggleable__control:checked~div.sk-toggleable__content {max-height: 200px;max-width: 100%;overflow: auto;}#sk-container-id-2 input.sk-toggleable__control:checked~label.sk-toggleable__label-arrow:before {content: \"▾\";}#sk-container-id-2 div.sk-estimator input.sk-toggleable__control:checked~label.sk-toggleable__label {background-color: #d4ebff;}#sk-container-id-2 div.sk-label input.sk-toggleable__control:checked~label.sk-toggleable__label {background-color: #d4ebff;}#sk-container-id-2 input.sk-hidden--visually {border: 0;clip: rect(1px 1px 1px 1px);clip: rect(1px, 1px, 1px, 1px);height: 1px;margin: -1px;overflow: hidden;padding: 0;position: absolute;width: 1px;}#sk-container-id-2 div.sk-estimator {font-family: monospace;background-color: #f0f8ff;border: 1px dotted black;border-radius: 0.25em;box-sizing: border-box;margin-bottom: 0.5em;}#sk-container-id-2 div.sk-estimator:hover {background-color: #d4ebff;}#sk-container-id-2 div.sk-parallel-item::after {content: \"\";width: 100%;border-bottom: 1px solid gray;flex-grow: 1;}#sk-container-id-2 div.sk-label:hover label.sk-toggleable__label {background-color: #d4ebff;}#sk-container-id-2 div.sk-serial::before {content: \"\";position: absolute;border-left: 1px solid gray;box-sizing: border-box;top: 0;bottom: 0;left: 50%;z-index: 0;}#sk-container-id-2 div.sk-serial {display: flex;flex-direction: column;align-items: center;background-color: white;padding-right: 0.2em;padding-left: 0.2em;position: relative;}#sk-container-id-2 div.sk-item {position: relative;z-index: 1;}#sk-container-id-2 div.sk-parallel {display: flex;align-items: stretch;justify-content: center;background-color: white;position: relative;}#sk-container-id-2 div.sk-item::before, #sk-container-id-2 div.sk-parallel-item::before {content: \"\";position: absolute;border-left: 1px solid gray;box-sizing: border-box;top: 0;bottom: 0;left: 50%;z-index: -1;}#sk-container-id-2 div.sk-parallel-item {display: flex;flex-direction: column;z-index: 1;position: relative;background-color: white;}#sk-container-id-2 div.sk-parallel-item:first-child::after {align-self: flex-end;width: 50%;}#sk-container-id-2 div.sk-parallel-item:last-child::after {align-self: flex-start;width: 50%;}#sk-container-id-2 div.sk-parallel-item:only-child::after {width: 0;}#sk-container-id-2 div.sk-dashed-wrapped {border: 1px dashed gray;margin: 0 0.4em 0.5em 0.4em;box-sizing: border-box;padding-bottom: 0.4em;background-color: white;}#sk-container-id-2 div.sk-label label {font-family: monospace;font-weight: bold;display: inline-block;line-height: 1.2em;}#sk-container-id-2 div.sk-label-container {text-align: center;}#sk-container-id-2 div.sk-container {/* jupyter's `normalize.less` sets `[hidden] { display: none; }` but bootstrap.min.css set `[hidden] { display: none !important; }` so we also need the `!important` here to be able to override the default hidden behavior on the sphinx rendered scikit-learn.org. See: https://github.com/scikit-learn/scikit-learn/issues/21755 */display: inline-block !important;position: relative;}#sk-container-id-2 div.sk-text-repr-fallback {display: none;}</style><div id=\"sk-container-id-2\" class=\"sk-top-container\"><div class=\"sk-text-repr-fallback\"><pre>RandomForestClassifier(n_estimators=1, n_jobs=-1, random_state=42)</pre><b>In a Jupyter environment, please rerun this cell to show the HTML representation or trust the notebook. <br />On GitHub, the HTML representation is unable to render, please try loading this page with nbviewer.org.</b></div><div class=\"sk-container\" hidden><div class=\"sk-item\"><div class=\"sk-estimator sk-toggleable\"><input class=\"sk-toggleable__control sk-hidden--visually\" id=\"sk-estimator-id-10\" type=\"checkbox\" checked><label for=\"sk-estimator-id-10\" class=\"sk-toggleable__label sk-toggleable__label-arrow\">RandomForestClassifier</label><div class=\"sk-toggleable__content\"><pre>RandomForestClassifier(n_estimators=1, n_jobs=-1, random_state=42)</pre></div></div></div></div></div>"
      ],
      "text/plain": [
       "RandomForestClassifier(n_estimators=1, n_jobs=-1, random_state=42)"
      ]
     },
     "execution_count": 18,
     "metadata": {},
     "output_type": "execute_result"
    }
   ],
   "source": [
    "clf.fit(X_train_processed, y_train_encoded.ravel())"
   ]
  },
  {
   "cell_type": "code",
   "execution_count": null,
   "metadata": {
    "tags": []
   },
   "outputs": [],
   "source": [
    "y_val_pred = clf.predict(X_val_processed)"
   ]
  },
  {
   "cell_type": "code",
   "execution_count": null,
   "metadata": {
    "tags": []
   },
   "outputs": [
    {
     "name": "stdout",
     "output_type": "stream",
     "text": [
      "Weighted F1 Score sur l'ensemble de validation : 0.9360\n"
     ]
    }
   ],
   "source": [
    "f1 = f1_score(y_val_encoded, y_val_pred, average='weighted')\n",
    "print(f\"Weighted F1 Score sur l'ensemble de validation : {f1:.4f}\")"
   ]
  },
  {
   "cell_type": "markdown",
   "metadata": {},
   "source": [
    "----"
   ]
  },
  {
   "cell_type": "markdown",
   "metadata": {},
   "source": [
    "## **Model Training on the entire train dataset**"
   ]
  },
  {
   "cell_type": "code",
   "execution_count": null,
   "metadata": {
    "tags": []
   },
   "outputs": [],
   "source": [
    "clf = RandomForestClassifier(\n",
    "    n_estimators=200,  \n",
    "    max_depth=None,    \n",
    "    random_state=42,   \n",
    "    n_jobs=-1          \n",
    ")"
   ]
  },
  {
   "cell_type": "code",
   "execution_count": null,
   "metadata": {
    "tags": []
   },
   "outputs": [],
   "source": [
    "X_train_total = train.drop('piezo_groundwater_level_category', axis=1)\n",
    "y_train_total = train['piezo_groundwater_level_category']\n",
    "\n",
    "preprocessor.fit(X_train_total)\n",
    "\n",
    "X_train_total_processed = preprocessor.transform(X_train_total)\n",
    "X_test_total_processed = preprocessor.transform(test)"
   ]
  },
  {
   "cell_type": "code",
   "execution_count": null,
   "metadata": {
    "tags": []
   },
   "outputs": [],
   "source": [
    "categories = ['Very Low', 'Low', 'Average', 'High', 'Very High']\n",
    "\n",
    "encoder = OrdinalEncoder(categories=[categories]) \n",
    "\n",
    "y_train_total_encoded = encoder.fit_transform(y_train_total.values.reshape(-1, 1))"
   ]
  },
  {
   "cell_type": "code",
   "execution_count": null,
   "metadata": {
    "tags": []
   },
   "outputs": [],
   "source": [
    "clf.fit(X_train_total_processed, y_train_total_encoded.ravel())"
   ]
  },
  {
   "cell_type": "code",
   "execution_count": null,
   "metadata": {
    "tags": []
   },
   "outputs": [],
   "source": [
    "y_test_pred = clf.predict(X_test_total_processed)"
   ]
  },
  {
   "cell_type": "code",
   "execution_count": null,
   "metadata": {
    "tags": []
   },
   "outputs": [],
   "source": [
    "test = pd.read_csv('./annex/row_index_of_test.csv')"
   ]
  },
  {
   "cell_type": "code",
   "execution_count": null,
   "metadata": {
    "tags": []
   },
   "outputs": [],
   "source": [
    "y_test_pred_labels = encoder.inverse_transform(y_test_pred.reshape(-1, 1))"
   ]
  },
  {
   "cell_type": "code",
   "execution_count": null,
   "metadata": {
    "tags": []
   },
   "outputs": [],
   "source": [
    "test_predictions = pd.DataFrame({\n",
    "    'row_index': test[\"row_index\"],  \n",
    "    'piezo_groundwater_level_category': y_test_pred_labels.ravel()\n",
    "})"
   ]
  },
  {
   "cell_type": "markdown",
   "metadata": {},
   "source": [
    "## **Submission to csv**"
   ]
  },
  {
   "cell_type": "code",
   "execution_count": null,
   "metadata": {
    "tags": []
   },
   "outputs": [],
   "source": [
    "test_predictions.to_csv('y_test_Hi5_RF_summeronly_v_very_final_yes.csv', index=False)"
   ]
  }
 ],
 "metadata": {
  "kernelspec": {
   "display_name": "Python 3 (ipykernel)",
   "language": "python",
   "name": "python3"
  },
  "language_info": {
   "codemirror_mode": {
    "name": "ipython",
    "version": 3
   },
   "file_extension": ".py",
   "mimetype": "text/x-python",
   "name": "python",
   "nbconvert_exporter": "python",
   "pygments_lexer": "ipython3",
   "version": "3.10.13"
  }
 },
 "nbformat": 4,
 "nbformat_minor": 4
}
