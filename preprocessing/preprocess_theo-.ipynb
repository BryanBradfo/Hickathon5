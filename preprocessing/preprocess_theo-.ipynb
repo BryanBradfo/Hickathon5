{
 "cells": [
  {
   "cell_type": "code",
   "execution_count": 1,
   "id": "7a2820b1-53c5-4747-9ed4-e3deaf24de89",
   "metadata": {},
   "outputs": [],
   "source": [
    "import pandas as pd\n",
    "import numpy as np\n",
    "import matplotlib.pyplot as plt"
   ]
  },
  {
   "cell_type": "code",
   "execution_count": 2,
   "id": "613b80b8-b037-4f59-a930-baba6d8d4e87",
   "metadata": {},
   "outputs": [
    {
     "name": "stderr",
     "output_type": "stream",
     "text": [
      "/tmp/ipykernel_10023/1176090376.py:1: DtypeWarning: Columns (108,110,111,115,117,118,122,124,125) have mixed types. Specify dtype option on import or set low_memory=False.\n",
      "  data = pd.read_csv('X_train_Hi5.csv')\n"
     ]
    }
   ],
   "source": [
    "data = pd.read_csv('X_train_Hi5.csv')"
   ]
  },
  {
   "cell_type": "code",
   "execution_count": 3,
   "id": "319e21bd-4668-4cfa-af86-83f120cab6b6",
   "metadata": {},
   "outputs": [],
   "source": [
    "n = data.shape[0]"
   ]
  },
  {
   "cell_type": "code",
   "execution_count": 4,
   "id": "6d94fe31-0dc8-4d91-8179-00c142cab372",
   "metadata": {},
   "outputs": [],
   "source": [
    "my_cols_name = ['hydro_station_code','hydro_observation_date_elab','hydro_observation_result_elab',\n",
    "                'hydro_status_code','hydro_status_label','hydro_method_code', 'hydro_method_label',\n",
    "                'hydro_qualification_code','hydro_qualification_label','hydro_longitude',\n",
    "                'hydro_latitude','hydro_hydro_quantity_elab',\n",
    "                'insee_%_agri','insee_pop_commune','insee_med_living_level',\n",
    "               'insee_%_const','insee_%_ind','distance_piezo_meteo','distance_piezo_hydro',\n",
    "                'piezo_groundwater_level_category','piezo_station_department_name','piezo_station_commune_code_insee']\n",
    "to_get_dummies = ['hydro_status_code','hydro_status_label','hydro_method_code','hydro_method_label',\n",
    "                  'hydro_qualification_code','hydro_qualification_label',\n",
    "                 'hydro_hydro_quantity_elab']"
   ]
  },
  {
   "cell_type": "code",
   "execution_count": 5,
   "id": "0e10966a-5122-4b85-942a-eeafbb700d62",
   "metadata": {},
   "outputs": [],
   "source": [
    "part_data = data[my_cols_name]"
   ]
  },
  {
   "cell_type": "code",
   "execution_count": 6,
   "id": "5c010ac9-e782-498f-a3a9-0f87b3168a13",
   "metadata": {},
   "outputs": [],
   "source": [
    "percentage_missing = {}\n",
    "for name in my_cols_name:\n",
    "    percentage_missing[name] = (n - part_data[name].isna().sum())/n"
   ]
  },
  {
   "cell_type": "code",
   "execution_count": 7,
   "id": "f53b5a40-cf22-4553-9ea6-39297e21d3b9",
   "metadata": {},
   "outputs": [],
   "source": [
    "list_full = []\n",
    "for name in my_cols_name:\n",
    "    if percentage_missing[name] != 0:\n",
    "        list_full.append(name)\n",
    "    else :\n",
    "        del percentage_missing[name]"
   ]
  },
  {
   "cell_type": "code",
   "execution_count": 8,
   "id": "53131b1d-e1a8-4717-abce-16bd498ed7dc",
   "metadata": {},
   "outputs": [],
   "source": [
    "list_hydro = []\n",
    "list_insee = []\n",
    "list_distance = []\n",
    "list_hydro.append('piezo_station_commune_code_insee')"
   ]
  },
  {
   "cell_type": "code",
   "execution_count": 9,
   "id": "943ffffb-2733-4c3c-8e75-c2d5f28cb735",
   "metadata": {},
   "outputs": [],
   "source": [
    "for name in my_cols_name:\n",
    "    current = name.split('_')\n",
    "    if 'hydro' == current[0]:\n",
    "        list_hydro.append(name)\n",
    "    elif 'distance' == current[0]:\n",
    "        list_distance.append(name)\n",
    "    elif 'insee' == current[0]:\n",
    "        list_insee.append(name)"
   ]
  },
  {
   "cell_type": "code",
   "execution_count": 10,
   "id": "236f304b-ae19-496f-b989-85373b3a21ce",
   "metadata": {},
   "outputs": [],
   "source": [
    "data_hydro = data[list_hydro]\n",
    "data_insee = data[list_insee]\n",
    "data_distance = data[list_distance]"
   ]
  },
  {
   "cell_type": "code",
   "execution_count": 11,
   "id": "fcd8e776-bd50-4d0c-9e8e-3ed0895d8f89",
   "metadata": {},
   "outputs": [
    {
     "data": {
      "text/plain": [
       "\"\\ndummy_hydro_code = pd.get_dummies(data_hydro['hydro_status_code'],\\n                                  prefix='hydro_status_code',dtype='int64')\\ndummy_hydro_label = pd.get_dummies(data_hydro['hydro_status_label'],\\n                                  prefix='hydro_status_label',dtype='int64')\\ndummy_method_code = pd.get_dummies(data_hydro['hydro_method_code'],\\n                                  prefix='hydro_method_code',dtype='int64')\\ndummy_method_label = pd.get_dummies(data_hydro['hydro_method_label'],\\n                                  prefix='hydro_method_code',dtype='int64')\\ndummy_quali_code = pd.get_dummies(data_hydro['hydro_qualification_code'],\\n                                  prefix='hydro_method_code',dtype='int64')\\ndummy_quali_label = pd.get_dummies(data_hydro['hydro_qualification_label'],\\n                                  prefix='hydro_method_code',dtype='int64')\\ndummy_hydro_quant_elab = pd.get_dummies(data_hydro['hydro_hydro_quantity_elab'],\\n                                  prefix='hydro_method_code',dtype='int64')\\n\""
      ]
     },
     "execution_count": 11,
     "metadata": {},
     "output_type": "execute_result"
    }
   ],
   "source": [
    "\"\"\"\n",
    "dummy_hydro_code = pd.get_dummies(data_hydro['hydro_status_code'],\n",
    "                                  prefix='hydro_status_code',dtype='int64')\n",
    "dummy_hydro_label = pd.get_dummies(data_hydro['hydro_status_label'],\n",
    "                                  prefix='hydro_status_label',dtype='int64')\n",
    "dummy_method_code = pd.get_dummies(data_hydro['hydro_method_code'],\n",
    "                                  prefix='hydro_method_code',dtype='int64')\n",
    "dummy_method_label = pd.get_dummies(data_hydro['hydro_method_label'],\n",
    "                                  prefix='hydro_method_code',dtype='int64')\n",
    "dummy_quali_code = pd.get_dummies(data_hydro['hydro_qualification_code'],\n",
    "                                  prefix='hydro_method_code',dtype='int64')\n",
    "dummy_quali_label = pd.get_dummies(data_hydro['hydro_qualification_label'],\n",
    "                                  prefix='hydro_method_code',dtype='int64')\n",
    "dummy_hydro_quant_elab = pd.get_dummies(data_hydro['hydro_hydro_quantity_elab'],\n",
    "                                  prefix='hydro_method_code',dtype='int64')\n",
    "\"\"\""
   ]
  },
  {
   "cell_type": "code",
   "execution_count": 12,
   "id": "83463a45-907d-49c0-8157-00ade4476d5b",
   "metadata": {},
   "outputs": [
    {
     "data": {
      "text/plain": [
       "'for name in to_get_dummies:\\n    data_hydro = data_hydro.drop([name],axis=1)'"
      ]
     },
     "execution_count": 12,
     "metadata": {},
     "output_type": "execute_result"
    }
   ],
   "source": [
    "\"\"\"for name in to_get_dummies:\n",
    "    data_hydro = data_hydro.drop([name],axis=1)\"\"\""
   ]
  },
  {
   "cell_type": "code",
   "execution_count": 13,
   "id": "596211d9-7dcf-4529-9aae-b95afa0d80ac",
   "metadata": {},
   "outputs": [],
   "source": [
    "#data_hydro = data_hydro.merge(dummy_hydro_code,left_index=True,right_index=True)\n",
    "#data_hydro = data_hydro.merge(dummy_hydro_label,left_index=True,right_index=True)\n",
    "#data_hydro = data_hydro.merge(dummy_method_code,left_index=True,right_index=True)\n",
    "#data_hydro = data_hydro.merge(dummy_method_label,left_index=True,right_index=True)\n",
    "#data_hydro = data_hydro.merge(dummy_quali_code,left_index=True,right_index=True)\n",
    "#data_hydro = data_hydro.merge(dummy_quali_label,left_index=True,right_index=True)\n",
    "#data_hydro = data_hydro.merge(dummy_hydro_quant_elab,left_index=True,right_index=True)\n",
    "#data_hydro = data_hydro.merge(dummy_hydro_code,left_index=True,right_index=True)"
   ]
  },
  {
   "cell_type": "code",
   "execution_count": 14,
   "id": "1e8daaf1-ebec-4a3e-887f-1d36c9a1ca95",
   "metadata": {},
   "outputs": [
    {
     "name": "stderr",
     "output_type": "stream",
     "text": [
      "/tmp/ipykernel_10023/1306092960.py:1: SettingWithCopyWarning: \n",
      "A value is trying to be set on a copy of a slice from a DataFrame.\n",
      "Try using .loc[row_indexer,col_indexer] = value instead\n",
      "\n",
      "See the caveats in the documentation: https://pandas.pydata.org/pandas-docs/stable/user_guide/indexing.html#returning-a-view-versus-a-copy\n",
      "  data_hydro['piezo_station_department_name'] = data['piezo_station_department_name'].copy()\n"
     ]
    }
   ],
   "source": [
    "data_hydro['piezo_station_department_name'] = data['piezo_station_department_name'].copy()\n",
    "by_dep = data_hydro.groupby('piezo_station_department_name').sum()"
   ]
  },
  {
   "cell_type": "markdown",
   "id": "b1668b50-0699-4019-9d5d-3fc0d19865cd",
   "metadata": {},
   "source": [
    "### Variables à dégager a priori dans l'optique de savoir s'il pleut ou pas ou y'a de la flotte sans doute:\n",
    "code variable station hydro (sauf pour groupby si preprocessing)\n",
    "hydro_status_code : voir comment les données ont été mesurées\n",
    "en première instance, on peut aussi dégager : hydro_qualification_code"
   ]
  },
  {
   "cell_type": "code",
   "execution_count": 15,
   "id": "58bfe9e1-c6c0-42a8-b790-fc642c0985a3",
   "metadata": {},
   "outputs": [],
   "source": [
    "whole_data = data_hydro.merge(data_insee, left_index=True, right_index=True)\n",
    "whole_data = whole_data.merge(data_distance, left_index=True, right_index=True)"
   ]
  },
  {
   "cell_type": "code",
   "execution_count": 16,
   "id": "dc57668a-bd1c-4324-8a4a-c8574bd7a4ab",
   "metadata": {
    "scrolled": true
   },
   "outputs": [
    {
     "name": "stdout",
     "output_type": "stream",
     "text": [
      "no missing in :  Ain\n",
      "no missing in :  Aisne\n",
      "no missing in :  Allier\n",
      "no missing in :  Alpes-de-Haute-Provence\n",
      "no missing in :  Hautes-Alpes\n",
      "no missing in :  Alpes-Maritimes\n",
      "no missing in :  Ardèche\n",
      "no missing in :  Ardennes\n",
      "no missing in :  Ariège\n",
      "no missing in :  Aube\n",
      "no missing in :  Aude\n",
      "no missing in :  Bouches-du-Rhône\n",
      "no missing in :  Cantal\n",
      "no missing in :  Charente-Maritime\n",
      "no missing in :  Cher\n",
      "no missing in :  Corrèze\n",
      "no missing in :  Creuse\n",
      "no missing in :  Doubs\n",
      "no missing in :  Drôme\n",
      "no missing in :  Finistère\n",
      "no missing in :  Corse-du-Sud\n",
      "no missing in :  Haute-Corse\n",
      "no missing in :  Gard\n",
      "no missing in :  Haute-Garonne\n",
      "no missing in :  Gers\n",
      "no missing in :  Gironde\n",
      "no missing in :  Hérault\n",
      "no missing in :  Ille-et-Vilaine\n",
      "no missing in :  Indre\n",
      "no missing in :  Indre-et-Loire\n",
      "no missing in :  Jura\n",
      "no missing in :  Landes\n",
      "no missing in :  Loire\n",
      "no missing in :  Haute-Loire\n",
      "no missing in :  Loiret\n",
      "no missing in :  Lot\n",
      "no missing in :  Lot-et-Garonne\n",
      "no missing in :  Manche\n",
      "no missing in :  Marne\n",
      "no missing in :  Haute-Marne\n",
      "no missing in :  Meurthe-et-Moselle\n",
      "no missing in :  Meuse\n",
      "no missing in :  Moselle\n",
      "no missing in :  Nièvre\n",
      "no missing in :  Nord\n",
      "no missing in :  Orne\n",
      "no missing in :  Pas-de-Calais\n",
      "no missing in :  Puy-de-Dôme\n",
      "no missing in :  Pyrénées-Atlantiques\n",
      "no missing in :  Hautes-Pyrénées\n",
      "no missing in :  Pyrénées-Orientales\n",
      "no missing in :  Bas-Rhin\n",
      "no missing in :  Haut-Rhin\n",
      "no missing in :  Rhône\n",
      "no missing in :  Saône-et-Loire\n",
      "no missing in :  Sarthe\n",
      "no missing in :  Savoie\n",
      "no missing in :  Haute-Savoie\n",
      "no missing in :  Seine-Maritime\n",
      "no missing in :  Seine-et-Marne\n",
      "no missing in :  Yvelines\n",
      "no missing in :  Deux-Sèvres\n",
      "no missing in :  Somme\n",
      "no missing in :  Tarn\n",
      "no missing in :  Tarn-et-Garonne\n",
      "no missing in :  Var\n",
      "no missing in :  Vaucluse\n",
      "no missing in :  Vienne\n",
      "no missing in :  Haute-Vienne\n",
      "no missing in :  Vosges\n",
      "no missing in :  Yonne\n",
      "no missing in :  Territoire de Belfort\n",
      "no missing in :  Essonne\n",
      "no missing in :  Seine-Saint-Denis\n",
      "no missing in :  Val-d'Oise\n",
      "no missing in :  Aveyron\n"
     ]
    }
   ],
   "source": [
    "\n",
    "missing_var = ['insee_%_agri','insee_pop_commune','insee_med_living_level',\n",
    "              'insee_%_const','insee_%_ind']\n",
    "\n",
    "list_of_dep = list(whole_data['piezo_station_department_name'].unique())\n",
    "\n",
    "\n",
    "\n",
    "#piezo_station_commune_code_insee\n",
    "list_dept_missing = []\n",
    "for dep in list_of_dep:\n",
    "    temp_data = whole_data[whole_data['piezo_station_department_name']==dep] #creation d'une base par département\n",
    "    if temp_data.isna().sum()['insee_%_ind'] == 0:\n",
    "        print('no missing in : ', dep)\n",
    "    else:\n",
    "        list_dept_missing.append(dep)"
   ]
  },
  {
   "cell_type": "code",
   "execution_count": 20,
   "id": "2b145e3f-0573-484f-ad62-efe9311e9236",
   "metadata": {},
   "outputs": [],
   "source": [
    "columns_with_missing_values = ['insee_%_agri', 'insee_pop_commune', \n",
    "                               'insee_med_living_level', 'insee_%_const', 'insee_%_ind']\n",
    "\n",
    "\n",
    "for col in columns_with_missing_values:\n",
    "    whole_data[col] = pd.to_numeric(whole_data[col], errors='coerce')\n",
    "\n",
    "\n",
    "whole_data[columns_with_missing_values] = whole_data.groupby('piezo_station_department_name')[\n",
    "    columns_with_missing_values\n",
    "].transform(lambda x: x.fillna(x.mean()))\n",
    "\n",
    "\n",
    "for col in columns_with_missing_values:\n",
    "    whole_data[col] = whole_data[col].fillna(whole_data[col].mean())"
   ]
  },
  {
   "cell_type": "code",
   "execution_count": null,
   "id": "bda6584e-94d7-4bd7-87fe-1992f3d3b990",
   "metadata": {},
   "outputs": [],
   "source": [
    "whole_data.to_csv('df_hydro_dist_insee.csv')"
   ]
  },
  {
   "cell_type": "code",
   "execution_count": null,
   "id": "7824020f-fe89-4964-9c00-98185764a834",
   "metadata": {},
   "outputs": [],
   "source": [
    "whole_data"
   ]
  },
  {
   "cell_type": "code",
   "execution_count": null,
   "id": "204c0708-3fd6-4947-8550-72f9d631cf61",
   "metadata": {},
   "outputs": [],
   "source": []
  }
 ],
 "metadata": {
  "kernelspec": {
   "display_name": "Python 3 (ipykernel)",
   "language": "python",
   "name": "python3"
  },
  "language_info": {
   "codemirror_mode": {
    "name": "ipython",
    "version": 3
   },
   "file_extension": ".py",
   "mimetype": "text/x-python",
   "name": "python",
   "nbconvert_exporter": "python",
   "pygments_lexer": "ipython3",
   "version": "3.12.6"
  }
 },
 "nbformat": 4,
 "nbformat_minor": 5
}
